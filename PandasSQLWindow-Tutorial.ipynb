{
 "cells": [
  {
   "cell_type": "markdown",
   "metadata": {
    "colab_type": "text",
    "id": "UWOO9V-BRXHW"
   },
   "source": [
    "# PandasSQLWindow Examples"
   ]
  },
  {
   "cell_type": "markdown",
   "metadata": {
    "colab_type": "text",
    "id": "8bd_dnRES5Tb"
   },
   "source": [
    "Despite all the brilliant and user-friendly functionalities making Pandas the preferred data-manipulation framework in Python (especially when compared to PySpark), I have often received questions/requests regarding how to conveniently perform SQL Window Function-like operations in Pandas especially when working on datasets with many logically-partitioned groups.\n",
    "\n",
    "\n",
    "As a result, I have written the PandasSQLWindow class as an attempt to unify some features common in SQL and PySpark using our beloved Pandas. This notebook walks through some of the functionalities of (the not so creatively named) PandasSQLWindow.\n",
    "**Both rolling and expanding windows can used.**\n",
    "\n",
    "Currently implemented Window functions:\n",
    "- shift\n",
    "- lag\n",
    "- lead\n",
    "- last (last known, non-null value)\n",
    "- rank\n",
    "- count\n",
    "\n",
    "- min\n",
    "- max\n",
    "- mean\n",
    "- median\n",
    "- quantile\n",
    "- sum\n",
    "- var\n",
    "- std\n",
    "\n",
    "\n",
    "**Tip:** use `help(Window)` to find out all parameters and available methods"
   ]
  },
  {
   "cell_type": "code",
   "execution_count": null,
   "metadata": {
    "colab": {},
    "colab_type": "code",
    "id": "kkOc3nUI15By"
   },
   "outputs": [],
   "source": [
    "import pandas as pd\n",
    "import numpy as np\n",
    "\n",
    "from PandasSQLWindow import Window"
   ]
  },
  {
   "cell_type": "code",
   "execution_count": null,
   "metadata": {
    "colab": {
     "base_uri": "https://localhost:8080/",
     "height": 235
    },
    "colab_type": "code",
    "id": "iOrzmwHD23Cd",
    "outputId": "40cd3c24-b336-4646-e75e-6ad1863f5b7e"
   },
   "outputs": [],
   "source": [
    "df = pd.DataFrame({'group':['a', 'b', 'b', 'c', 'c', 'c'],\n",
    "                   'timestamp':[1, 2, 1, 3, 2, 1], \n",
    "                   'value': [1, 2, 3, 4, np.nan, 6]})\n",
    "\n",
    "df"
   ]
  },
  {
   "cell_type": "code",
   "execution_count": 3,
   "metadata": {
    "colab": {
     "base_uri": "https://localhost:8080/",
     "height": 235
    },
    "colab_type": "code",
    "id": "ceZ7jG0S6hKI",
    "outputId": "ffb6013b-0a41-4604-9bf9-d1251df83056"
   },
   "outputs": [
    {
     "data": {
      "text/html": [
       "<div>\n",
       "<style scoped>\n",
       "    .dataframe tbody tr th:only-of-type {\n",
       "        vertical-align: middle;\n",
       "    }\n",
       "\n",
       "    .dataframe tbody tr th {\n",
       "        vertical-align: top;\n",
       "    }\n",
       "\n",
       "    .dataframe thead th {\n",
       "        text-align: right;\n",
       "    }\n",
       "</style>\n",
       "<table border=\"1\" class=\"dataframe\">\n",
       "  <thead>\n",
       "    <tr style=\"text-align: right;\">\n",
       "      <th></th>\n",
       "      <th>group</th>\n",
       "      <th>timestamp</th>\n",
       "      <th>value</th>\n",
       "      <th>count</th>\n",
       "      <th>lag</th>\n",
       "      <th>last_known</th>\n",
       "      <th>rolling_sum</th>\n",
       "      <th>expanding_sum</th>\n",
       "      <th>rolling_mean</th>\n",
       "      <th>expanding_mean</th>\n",
       "    </tr>\n",
       "  </thead>\n",
       "  <tbody>\n",
       "    <tr>\n",
       "      <td>0</td>\n",
       "      <td>a</td>\n",
       "      <td>1</td>\n",
       "      <td>1.0</td>\n",
       "      <td>1</td>\n",
       "      <td>NaN</td>\n",
       "      <td>NaN</td>\n",
       "      <td>1.0</td>\n",
       "      <td>1.0</td>\n",
       "      <td>1.0</td>\n",
       "      <td>1.0</td>\n",
       "    </tr>\n",
       "    <tr>\n",
       "      <td>2</td>\n",
       "      <td>b</td>\n",
       "      <td>1</td>\n",
       "      <td>3.0</td>\n",
       "      <td>1</td>\n",
       "      <td>NaN</td>\n",
       "      <td>NaN</td>\n",
       "      <td>3.0</td>\n",
       "      <td>3.0</td>\n",
       "      <td>3.0</td>\n",
       "      <td>3.0</td>\n",
       "    </tr>\n",
       "    <tr>\n",
       "      <td>1</td>\n",
       "      <td>b</td>\n",
       "      <td>2</td>\n",
       "      <td>2.0</td>\n",
       "      <td>2</td>\n",
       "      <td>3.0</td>\n",
       "      <td>3.0</td>\n",
       "      <td>5.0</td>\n",
       "      <td>5.0</td>\n",
       "      <td>2.5</td>\n",
       "      <td>2.5</td>\n",
       "    </tr>\n",
       "    <tr>\n",
       "      <td>5</td>\n",
       "      <td>c</td>\n",
       "      <td>1</td>\n",
       "      <td>6.0</td>\n",
       "      <td>1</td>\n",
       "      <td>NaN</td>\n",
       "      <td>NaN</td>\n",
       "      <td>6.0</td>\n",
       "      <td>6.0</td>\n",
       "      <td>6.0</td>\n",
       "      <td>6.0</td>\n",
       "    </tr>\n",
       "    <tr>\n",
       "      <td>4</td>\n",
       "      <td>c</td>\n",
       "      <td>2</td>\n",
       "      <td>NaN</td>\n",
       "      <td>2</td>\n",
       "      <td>6.0</td>\n",
       "      <td>6.0</td>\n",
       "      <td>6.0</td>\n",
       "      <td>6.0</td>\n",
       "      <td>6.0</td>\n",
       "      <td>6.0</td>\n",
       "    </tr>\n",
       "    <tr>\n",
       "      <td>3</td>\n",
       "      <td>c</td>\n",
       "      <td>3</td>\n",
       "      <td>4.0</td>\n",
       "      <td>3</td>\n",
       "      <td>NaN</td>\n",
       "      <td>6.0</td>\n",
       "      <td>4.0</td>\n",
       "      <td>10.0</td>\n",
       "      <td>4.0</td>\n",
       "      <td>5.0</td>\n",
       "    </tr>\n",
       "  </tbody>\n",
       "</table>\n",
       "</div>"
      ],
      "text/plain": [
       "  group  timestamp  value  count  lag  last_known  rolling_sum  expanding_sum  \\\n",
       "0     a          1    1.0      1  NaN         NaN          1.0            1.0   \n",
       "2     b          1    3.0      1  NaN         NaN          3.0            3.0   \n",
       "1     b          2    2.0      2  3.0         3.0          5.0            5.0   \n",
       "5     c          1    6.0      1  NaN         NaN          6.0            6.0   \n",
       "4     c          2    NaN      2  6.0         6.0          6.0            6.0   \n",
       "3     c          3    4.0      3  NaN         6.0          4.0           10.0   \n",
       "\n",
       "   rolling_mean  expanding_mean  \n",
       "0           1.0             1.0  \n",
       "2           3.0             3.0  \n",
       "1           2.5             2.5  \n",
       "5           6.0             6.0  \n",
       "4           6.0             6.0  \n",
       "3           4.0             5.0  "
      ]
     },
     "execution_count": 3,
     "metadata": {},
     "output_type": "execute_result"
    }
   ],
   "source": [
    "w = Window(data=df, \n",
    "           partition_by='group', # alternatively, use a list to partition by multiple columns\n",
    "           order_by='timestamp', \n",
    "           rows_rolling=2)\n",
    "\n",
    "df['count'] = w.count() # necessarily runs an expanding count (i.e. row number)\n",
    "df['lag'] = w.lag('value')\n",
    "df['last_known'] = w.last('value')\n",
    "\n",
    "df['rolling_sum'] = w.sum('value') # runs a rolling sum since rows_rolling is specified\n",
    "df['expanding_sum'] = w.expanding_sum('value') # expanding sum on the entire partition is still available if explicitly called\n",
    "\n",
    "df['rolling_mean'] = w.rolling_mean('value') # you can also explicitly specify rolling_mean() instead of mean()\n",
    "df['expanding_mean'] = w.expanding_mean('value') # expanding mean on the entire partition is still available if explicitly called\n",
    "\n",
    "column_order = [\n",
    "    'group',\n",
    "    'timestamp',\n",
    "    'value',\n",
    "    'count',\n",
    "    'lag',\n",
    "    'last_known',\n",
    "    'rolling_sum',\n",
    "    'expanding_sum',\n",
    "    'rolling_mean',\n",
    "    'expanding_mean'\n",
    "]\n",
    "\n",
    "# Just for ease of reading:\n",
    "df[column_order].sort_values(['group', 'timestamp'])"
   ]
  }
 ],
 "metadata": {
  "colab": {
   "name": "PandasSQLWindow-Tutorial.ipynb",
   "provenance": []
  },
  "kernelspec": {
   "display_name": "Python 3",
   "language": "python",
   "name": "python3"
  },
  "language_info": {
   "codemirror_mode": {
    "name": "ipython",
    "version": 3
   },
   "file_extension": ".py",
   "mimetype": "text/x-python",
   "name": "python",
   "nbconvert_exporter": "python",
   "pygments_lexer": "ipython3",
   "version": "3.7.3"
  }
 },
 "nbformat": 4,
 "nbformat_minor": 1
}
